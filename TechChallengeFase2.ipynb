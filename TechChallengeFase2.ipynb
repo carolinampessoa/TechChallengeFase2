{
  "nbformat": 4,
  "nbformat_minor": 0,
  "metadata": {
    "colab": {
      "provenance": [],
      "include_colab_link": true
    },
    "kernelspec": {
      "name": "python3",
      "display_name": "Python 3"
    },
    "language_info": {
      "name": "python"
    }
  },
  "cells": [
    {
      "cell_type": "markdown",
      "metadata": {
        "id": "view-in-github",
        "colab_type": "text"
      },
      "source": [
        "<a href=\"https://colab.research.google.com/github/carolinampessoa/TechChallengeFase2/blob/main/TechChallengeFase2.ipynb\" target=\"_parent\"><img src=\"https://colab.research.google.com/assets/colab-badge.svg\" alt=\"Open In Colab\"/></a>"
      ]
    },
    {
      "cell_type": "markdown",
      "source": [
        "## **1) Definindo o problema**"
      ],
      "metadata": {
        "id": "TRdKjSqcfthR"
      }
    },
    {
      "cell_type": "markdown",
      "source": [
        "O problema abordado neste trabalho consiste na alocação de tarefas a máquinas de forma a minimizar o tempo total de execução da máquina mais sobrecarregada, conhecido como makespan. Esse tipo de problema é clássico em contextos de escalonamento (scheduling) e balanceamento de carga, sendo comum em ambientes industriais, computacionais e logísticos.\n",
        "\n",
        "Formalmente, temos um conjunto de 𝑛 tarefas, cada uma com um tempo de processamento associado, e um conjunto de 𝑚 máquinas idênticas. O objetivo é distribuir essas tarefas entre as máquinas de modo que o tempo total da máquina mais carregada seja o menor possível.\n",
        "\n",
        "O problema é modelado com variáveis discretas e inteiras, pois cada tarefa deve ser atribuída a uma única máquina, representada por um número inteiro. Não há variáveis contínuas envolvidas. O espaço de busca é exponencial, uma vez que o número de possíveis alocações é $m^n$ de forma que sua complexidade cresce rapidamente com o aumento de tarefas ou máquinas.\n",
        "\n",
        "A função a ser minimizada (o makespan) é uma função não linear e não diferenciável, pois depende do máximo dos tempos acumulados nas máquinas. Isso impede o uso direto de técnicas de otimização contínua baseadas em derivadas.\n",
        "\n",
        "Cada tarefa deve ser atribuída a exatamente uma máquina. Não há restrições explícitas além da integridade da alocação.\n",
        "\n",
        "O problema é classificado como np-hard, o que significa que não há algoritmo conhecido que o resolva em tempo polinomial para todos os casos."
      ],
      "metadata": {
        "id": "5u6oDCNzg9Ii"
      }
    },
    {
      "cell_type": "markdown",
      "source": [
        "##**2) Implementação do AG**"
      ],
      "metadata": {
        "id": "YTAkNNqOffhc"
      }
    },
    {
      "cell_type": "markdown",
      "source": [
        "### 2.1) Importando bibiliotecas e definindo parâmetros iniciais"
      ],
      "metadata": {
        "id": "RitpJzEMkfK_"
      }
    },
    {
      "cell_type": "code",
      "execution_count": 71,
      "metadata": {
        "id": "G4d-sF5vCaoZ",
        "collapsed": true,
        "colab": {
          "base_uri": "https://localhost:8080/"
        },
        "outputId": "9206f917-ad0f-4fa3-c403-54e0d3547efe"
      },
      "outputs": [
        {
          "output_type": "stream",
          "name": "stdout",
          "text": [
            "Authtoken saved to configuration file: /root/.config/ngrok/ngrok.yml\n"
          ]
        }
      ],
      "source": [
        "# Configurações Streamlit\n",
        "!pip install streamlit pyngrok --quiet\n",
        "!ngrok config add-authtoken 30mw8ddmcCbqD1w219CKzTNCku7_29ZDWq1BUQF3TdyhG4QSx\n",
        "\n",
        "# Importação de bibliotecas\n",
        "import random\n",
        "import matplotlib.pyplot as plt\n",
        "from pyngrok import ngrok\n",
        "\n",
        "# Configurações iniciais do problema\n",
        "NUM_TAREFAS = 1000\n",
        "NUM_MAQUINAS = 20\n",
        "TAMANHO_POPULACAO = 200\n",
        "GERACOES = 100\n",
        "TAXA_CROSSOVER = 0.7\n",
        "TAXA_MUTACAO = 0.01\n",
        "\n",
        "# Geração de tarefas aleatórias com tempo variando entre 1 e 15 minutos\n",
        "# tarefas = [random.randint(1, 15) for _ in range(NUM_TAREFAS)]\n",
        "\n",
        "#Após geração aleatória, optamos por manter o mesmo input inicial para comparação de melhorias no código\n",
        "tarefas = [11, 13, 3, 10, 4, 3, 3, 10, 11, 1, 5, 14, 1, 1, 7, 1, 2, 4, 6, 2, 14, 3, 5, 11, 12, 10, 1, 6, 3, 9, 10, 14, 6, 8, 1, 6, 3, 7, 13, 11, 5, 14, 5, 13, 11, 5, 7, 10, 12, 8, 13, 2, 2, 5, 11, 12, 8, 7, 7, 15, 12, 14, 8, 5, 6, 11, 7, 10, 6, 12, 10, 11, 5, 13, 9, 2, 8, 7, 1, 15, 15, 10, 2, 7, 15, 8, 2, 9, 6, 6, 9, 8, 5, 10, 8, 7, 9, 8, 9, 5, 10, 4, 15, 2, 1, 3, 5, 14, 2, 8, 12, 10, 3, 1, 7, 1, 2, 3, 9, 15, 7, 8, 14, 3, 7, 1, 11, 12, 11, 3, 8, 9, 7, 4, 14, 14, 8, 14, 11, 10, 4, 15, 12, 14, 12, 14, 3, 13, 11, 10, 6, 10, 2, 2, 15, 5, 9, 2, 14, 8, 12, 8, 3, 1, 4, 13, 15, 3, 5, 9, 5, 11, 8, 13, 3, 13, 14, 15, 8, 3, 12, 9, 14, 11, 14, 1, 13, 1, 8, 1, 9, 13, 2, 13, 7, 5, 9, 3, 11, 5, 5, 7, 12, 10, 11, 6, 5, 3, 12, 9, 9, 1, 3, 11, 3, 14, 5, 14, 3, 4, 10, 13, 15, 9, 8, 10, 15, 2, 8, 14, 10, 1, 3, 8, 15, 5, 14, 9, 2, 2, 10, 15, 7, 5, 10, 15, 10, 14, 4, 8, 7, 10, 4, 7, 5, 6, 4, 10, 3, 6, 5, 9, 11, 10, 12, 9, 4, 6, 10, 1, 1, 2, 6, 7, 5, 11, 14, 10, 10, 1, 10, 7, 1, 14, 15, 6, 8, 1, 14, 6, 3, 5, 5, 14, 2, 12, 11, 10, 13, 14, 3, 15, 15, 15, 8, 8, 12, 10, 13, 1, 10, 8, 9, 6, 14, 6, 6, 15, 3, 12, 6, 8, 6, 9, 13, 6, 9, 5, 7, 8, 6, 10, 3, 9, 3, 3, 13, 4, 7, 3, 9, 11, 12, 5, 10, 13, 1, 8, 12, 13, 9, 15, 2, 13, 10, 5, 15, 1, 13, 3, 3, 1, 2, 7, 6, 13, 15, 6, 1, 8, 14, 11, 9, 6, 13, 7, 7, 1, 15, 3, 10, 3, 3, 12, 9, 10, 9, 6, 3, 3, 15, 4, 8, 2, 14, 12, 10, 9, 11, 2, 10, 1, 3, 1, 7, 6, 2, 3, 15, 14, 10, 10, 15, 3, 8, 4, 11, 5, 3, 8, 13, 1, 15, 3, 14, 11, 5, 1, 12, 8, 2, 14, 2, 14, 2, 5, 2, 6, 13, 5, 12, 15, 1, 13, 3, 7, 12, 6, 7, 15, 14, 6, 10, 5, 5, 10, 10, 2, 13, 12, 5, 7, 15, 9, 11, 14, 4, 14, 2, 9, 15, 14, 13, 8, 10, 5, 4, 5, 13, 14, 6, 7, 11, 13, 6, 5, 1, 9, 2, 3, 14, 7, 1, 2, 1, 6, 15, 4, 14, 15, 14, 3, 9, 12, 15, 12, 15, 13, 3, 14, 9, 12, 15, 6, 11, 9, 5, 9, 14, 6, 1, 9, 15, 5, 11, 4, 1, 15, 9, 3, 5, 8, 7, 8, 2, 10, 11, 8, 5, 11, 3, 11, 11, 14, 9, 15, 1, 13, 3, 10, 12, 6, 4, 8, 8, 3, 7, 3, 4, 5, 5, 7, 1, 6, 13, 10, 4, 4, 7, 8, 4, 7, 9, 8, 11, 2, 14, 3, 9, 5, 9, 2, 7, 15, 14, 3, 1, 11, 10, 14, 14, 6, 9, 9, 10, 3, 13, 15, 1, 4, 15, 4, 10, 2, 11, 12, 14, 8, 3, 3, 4, 11, 7, 7, 13, 4, 12, 2, 5, 12, 6, 3, 12, 3, 5, 10, 14, 4, 3, 9, 6, 6, 13, 6, 7, 2, 12, 9, 12, 5, 1, 7, 1, 10, 3, 2, 6, 11, 5, 8, 6, 4, 9, 1, 2, 8, 7, 9, 11, 14, 4, 2, 3, 14, 4, 5, 3, 6, 13, 2, 2, 11, 12, 8, 13, 10, 5, 7, 9, 11, 10, 14, 8, 9, 12, 14, 5, 11, 5, 1, 2, 7, 15, 8, 2, 1, 1, 2, 7, 7, 3, 10, 13, 8, 15, 13, 1, 6, 15, 9, 12, 1, 14, 10, 8, 12, 7, 1, 12, 4, 14, 9, 8, 2, 11, 3, 9, 11, 11, 14, 9, 8, 2, 4, 14, 12, 2, 6, 15, 8, 8, 2, 5, 14, 6, 5, 7, 1, 10, 9, 3, 8, 9, 13, 4, 2, 4, 1, 15, 1, 11, 10, 5, 10, 8, 5, 15, 7, 13, 15, 5, 15, 7, 8, 2, 15, 3, 2, 10, 12, 13, 4, 5, 7, 14, 2, 10, 11, 4, 4, 10, 4, 7, 1, 7, 13, 4, 12, 5, 5, 5, 7, 1, 14, 15, 9, 4, 14, 9, 10, 10, 4, 10, 1, 2, 3, 7, 1, 3, 11, 5, 11, 4, 13, 1, 5, 5, 10, 1, 12, 8, 15, 1, 6, 8, 4, 9, 10, 11, 10, 1, 15, 3, 6, 15, 2, 15, 11, 5, 14, 5, 7, 6, 7, 9, 9, 2, 3, 13, 1, 15, 5, 13, 3, 15, 4, 1, 7, 13, 5, 4, 10, 8, 15, 12, 3, 5, 4, 6, 13, 2, 15, 12, 13, 1, 4, 12, 12, 4, 9, 8, 3, 6, 7, 4, 4, 2, 13, 5, 6, 4, 1, 11, 3, 4, 11, 7, 14, 6, 10, 14, 6, 6, 11, 1, 4, 1, 6, 6, 10, 13, 13, 2, 14, 4, 15, 3, 5, 2, 7, 15, 2, 7, 14, 4, 5, 4, 3, 1, 13, 2, 7, 15, 11, 14, 5, 2, 10, 7, 9, 11, 3, 15, 15, 4, 3, 1, 1, 1, 13, 13, 1, 4, 13, 1, 3, 4, 8, 10, 9, 11, 11, 5, 9, 13, 1, 9, 13, 12, 5, 1, 10, 9, 14, 10, 14, 8, 4, 3, 6, 15, 8, 12, 1, 5, 10, 6, 9, 8, 14]\n"
      ]
    },
    {
      "cell_type": "markdown",
      "source": [
        "### 2.2) Codificação do indivíduo"
      ],
      "metadata": {
        "id": "RWORlpmuktLD"
      }
    },
    {
      "cell_type": "markdown",
      "source": [
        "No problema proposto, um indivíduo é representado por um vetor de valores inteiros (codificação discreta), onde o valor do elemento i representa a máquina em que foi alocada a tarefa i."
      ],
      "metadata": {
        "id": "nNOHES5ns-Pd"
      }
    },
    {
      "cell_type": "code",
      "source": [
        "# CRIAR UM INDIVÍDUO (alocação de tarefas em máquinas)\n",
        "def criar_individuo():\n",
        "    return [random.randint(0, NUM_MAQUINAS - 1) for _ in range(NUM_TAREFAS)]"
      ],
      "metadata": {
        "id": "4VYUDRztlsPp"
      },
      "execution_count": 72,
      "outputs": []
    },
    {
      "cell_type": "markdown",
      "source": [
        "Exemplo de indíviduo gerado:"
      ],
      "metadata": {
        "id": "FVuj1WaCxGM1"
      }
    },
    {
      "cell_type": "code",
      "source": [
        "print(criar_individuo())"
      ],
      "metadata": {
        "colab": {
          "base_uri": "https://localhost:8080/"
        },
        "id": "13sky09Pw8NA",
        "outputId": "91773fa2-bc3e-48b8-8042-d2e4fecfdfb8"
      },
      "execution_count": 73,
      "outputs": [
        {
          "output_type": "stream",
          "name": "stdout",
          "text": [
            "[0, 19, 9, 9, 16, 15, 10, 11, 14, 11, 4, 10, 7, 16, 11, 8, 7, 10, 1, 9, 6, 13, 8, 5, 14, 5, 13, 5, 4, 6, 15, 12, 5, 9, 13, 5, 7, 13, 15, 4, 6, 3, 9, 14, 15, 18, 3, 16, 8, 3, 16, 12, 5, 13, 5, 17, 14, 19, 15, 5, 7, 2, 5, 6, 1, 6, 14, 4, 15, 6, 11, 7, 6, 4, 13, 5, 16, 12, 5, 14, 11, 14, 8, 9, 3, 13, 3, 3, 17, 15, 9, 4, 16, 14, 10, 4, 18, 0, 19, 14, 14, 12, 0, 6, 2, 14, 13, 6, 16, 19, 2, 14, 12, 16, 19, 18, 0, 16, 3, 19, 10, 6, 8, 14, 7, 11, 4, 12, 7, 8, 14, 10, 0, 0, 12, 8, 17, 12, 1, 13, 16, 12, 11, 4, 16, 15, 0, 0, 0, 8, 12, 13, 4, 7, 16, 19, 19, 16, 9, 4, 16, 16, 14, 15, 18, 2, 6, 14, 15, 11, 8, 6, 0, 4, 2, 11, 7, 9, 1, 5, 11, 4, 2, 4, 7, 14, 6, 13, 6, 9, 15, 4, 11, 3, 10, 0, 1, 6, 5, 14, 16, 5, 8, 5, 17, 17, 3, 7, 15, 14, 10, 3, 14, 5, 9, 16, 14, 4, 6, 8, 18, 2, 15, 17, 13, 7, 11, 4, 6, 8, 15, 8, 2, 7, 14, 18, 6, 5, 13, 18, 17, 15, 8, 18, 19, 17, 19, 14, 14, 0, 1, 13, 15, 2, 14, 13, 13, 14, 0, 12, 4, 18, 0, 7, 3, 5, 6, 11, 14, 19, 2, 15, 4, 15, 13, 5, 4, 1, 7, 15, 11, 5, 16, 13, 4, 18, 18, 7, 3, 10, 9, 9, 15, 8, 4, 1, 1, 1, 14, 12, 1, 12, 15, 0, 17, 4, 1, 10, 16, 14, 2, 3, 11, 6, 10, 15, 10, 4, 13, 0, 13, 7, 18, 17, 10, 4, 1, 15, 8, 13, 3, 14, 5, 16, 13, 11, 2, 10, 9, 18, 0, 14, 13, 2, 12, 5, 16, 17, 14, 5, 9, 19, 18, 0, 13, 6, 0, 18, 19, 10, 5, 14, 19, 16, 17, 4, 13, 5, 2, 15, 8, 3, 2, 2, 13, 17, 9, 2, 16, 5, 1, 7, 8, 1, 12, 0, 11, 0, 6, 10, 7, 16, 10, 5, 4, 15, 7, 6, 5, 15, 19, 18, 5, 5, 15, 9, 10, 15, 15, 15, 7, 5, 1, 6, 14, 9, 11, 7, 8, 3, 9, 6, 10, 12, 5, 2, 14, 0, 4, 6, 13, 14, 0, 17, 9, 19, 5, 11, 11, 12, 15, 2, 10, 17, 7, 12, 5, 13, 4, 1, 6, 1, 5, 3, 15, 7, 18, 17, 3, 8, 9, 12, 5, 8, 4, 5, 1, 9, 5, 4, 11, 12, 7, 11, 7, 15, 15, 15, 14, 19, 4, 15, 16, 14, 4, 8, 4, 15, 19, 18, 14, 15, 16, 18, 6, 18, 16, 11, 3, 10, 3, 4, 18, 14, 13, 13, 10, 12, 12, 13, 0, 7, 11, 10, 16, 19, 16, 17, 13, 18, 4, 3, 13, 18, 5, 14, 5, 6, 12, 14, 16, 11, 12, 9, 16, 18, 4, 4, 13, 6, 3, 14, 3, 2, 19, 14, 4, 8, 18, 14, 4, 7, 13, 3, 6, 4, 17, 14, 14, 10, 10, 4, 9, 8, 0, 4, 1, 8, 8, 19, 18, 1, 11, 1, 12, 16, 17, 7, 6, 13, 11, 5, 13, 12, 11, 18, 3, 0, 14, 11, 4, 15, 6, 15, 11, 11, 16, 6, 16, 14, 19, 14, 17, 5, 11, 18, 11, 17, 6, 10, 8, 18, 18, 19, 1, 2, 4, 3, 1, 13, 10, 15, 2, 18, 4, 16, 0, 12, 0, 6, 12, 10, 2, 2, 17, 18, 15, 5, 10, 0, 2, 18, 7, 12, 10, 18, 1, 17, 8, 7, 14, 5, 3, 5, 6, 3, 9, 18, 19, 14, 0, 11, 2, 17, 19, 17, 11, 17, 10, 18, 3, 5, 2, 4, 5, 11, 0, 0, 16, 17, 1, 13, 3, 12, 10, 18, 10, 15, 11, 17, 12, 14, 5, 15, 10, 11, 11, 4, 11, 15, 10, 3, 0, 9, 12, 10, 9, 3, 5, 10, 11, 13, 12, 10, 4, 12, 1, 5, 8, 12, 5, 2, 9, 11, 13, 13, 3, 1, 12, 8, 12, 11, 14, 17, 8, 2, 5, 13, 13, 8, 6, 6, 15, 11, 17, 12, 17, 17, 2, 11, 1, 4, 13, 2, 9, 6, 19, 8, 8, 11, 4, 5, 0, 10, 9, 11, 2, 17, 15, 14, 19, 17, 10, 12, 17, 3, 0, 9, 0, 12, 16, 7, 13, 15, 2, 13, 15, 0, 13, 4, 15, 14, 16, 17, 16, 2, 10, 18, 7, 10, 1, 2, 19, 12, 15, 15, 10, 3, 13, 19, 5, 5, 14, 17, 9, 18, 8, 3, 10, 9, 12, 16, 3, 3, 14, 17, 1, 11, 3, 10, 3, 17, 15, 3, 17, 4, 7, 16, 1, 8, 13, 9, 13, 13, 3, 18, 5, 19, 5, 16, 7, 10, 9, 15, 1, 11, 13, 10, 12, 13, 19, 16, 7, 6, 15, 4, 7, 10, 0, 4, 6, 6, 18, 3, 5, 13, 13, 14, 6, 6, 8, 7, 4, 2, 2, 9, 8, 3, 17, 16, 11, 0, 3, 12, 8, 13, 14, 17, 19, 17, 3, 15, 18, 15, 7, 18, 2, 5, 13, 8, 6, 17, 6, 6, 3, 14, 19, 12, 6, 15, 4, 13, 12, 1, 0, 9, 7, 19, 0, 15, 11, 16, 7, 18, 12, 14, 19, 5, 13, 6, 0, 1, 13, 14, 10, 12, 0, 7, 19, 9, 13, 9, 16, 2, 9, 14, 11, 2, 11, 5, 14, 18, 16, 12, 17, 11, 10, 8, 3, 7, 9, 11, 11, 13, 10, 1, 6, 0, 3, 7, 5, 9, 14, 0, 12, 1, 7, 4, 13, 14, 14, 9, 4, 6, 0, 7, 4, 5, 10, 0]\n"
          ]
        }
      ]
    },
    {
      "cell_type": "markdown",
      "source": [
        "### 2.3) Função Fitness"
      ],
      "metadata": {
        "id": "pcPaYpTvl20A"
      }
    },
    {
      "cell_type": "markdown",
      "source": [
        "A avaliação das soluções considerou dois critérios:\n",
        "\n",
        "  1.   Makespan da máquina mais carregada, ou seja, o tempo máximo necessário para completar todas as atividades (considerando que todas máquinas rodam paralelamente);\n",
        "  2.   Balanceamento dos recursos, ou seja, quão bem distribuídas as atividades estão ao longo das máquinas, de forma que não tenhamos nenhuma máquina ociosa ou engargalada demais.Para isso, avaliamos a variância dos tempos acumulados em cada máquina;"
      ],
      "metadata": {
        "id": "pwawMkhj3Xt8"
      }
    },
    {
      "cell_type": "code",
      "source": [
        "\n",
        "# AVALIAÇÃO CLÁSSICA (considera somente makespan)\n",
        "def avaliar_classico(individuo):\n",
        "    maquinas = [0] * NUM_MAQUINAS\n",
        "    for i, m in enumerate(individuo):\n",
        "        maquinas[m] += tarefas[i]\n",
        "    return max(maquinas)\n",
        "\n",
        "# AVALIAÇÃO MELHORADA (considera makespan + desbalanceamento)\n",
        "def avaliar_melhorado(individuo):\n",
        "    maquinas = [0] * NUM_MAQUINAS\n",
        "    for i, m in enumerate(individuo):\n",
        "        maquinas[m] += tarefas[i]\n",
        "    makespan = max(maquinas)\n",
        "    media = sum(maquinas) / NUM_MAQUINAS\n",
        "    desvio = sum(abs(x - media) for x in maquinas) / NUM_MAQUINAS\n",
        "    return makespan + 0.1 * desvio\n"
      ],
      "metadata": {
        "id": "P6_cAskJlvO8"
      },
      "execution_count": 74,
      "outputs": []
    },
    {
      "cell_type": "markdown",
      "source": [
        "### 2.4) Operadores genéticos (seleção, cruzamento e mutação)"
      ],
      "metadata": {
        "id": "eEZoRQPMl7OC"
      }
    },
    {
      "cell_type": "markdown",
      "source": [
        "Aqui exploramos diferentes operadores genéticos:\n",
        "\n",
        "Para a **seleção**, simulamos uma seleção por torneio e uma seleção proporcional;"
      ],
      "metadata": {
        "id": "e-OGxnq1xP5d"
      }
    },
    {
      "cell_type": "code",
      "source": [
        "# SELEÇÃO POR TORNEIO: escolhe k indivíduos aleatórios e retorna o melhor\n",
        "def selecao_torneio(populacao, func_avaliar, k=2):\n",
        "    competidores = random.sample(populacao, k)\n",
        "    return min(competidores, key=func_avaliar)\n",
        "\n",
        "# SELEÇÃO POR PROBABILIDADE: chance proporcional ao inverso do fitness\n",
        "def selecao_roleta(populacao, func_avaliar):\n",
        "    # Calcula o inverso do fitness para problemas de minimização\n",
        "    valores = [1 / (func_avaliar(ind) + 1e-6) for ind in populacao]\n",
        "    soma_total = sum(valores)\n",
        "    probs = [v / soma_total for v in valores]\n",
        "\n",
        "    # Gera um número aleatório e seleciona o indivíduo correspondente\n",
        "    r = random.random()\n",
        "    acumulado = 0\n",
        "    for ind, p in zip(populacao, probs):\n",
        "        acumulado += p\n",
        "        if acumulado >= r:\n",
        "            return ind\n",
        "    return populacao[-1]"
      ],
      "metadata": {
        "id": "idbJJfo-02Uc"
      },
      "execution_count": 75,
      "outputs": []
    },
    {
      "cell_type": "markdown",
      "source": [
        "\n",
        "Para o **cruzamento**, implementamos o Uniform Crossover e o Single Point Crossover;"
      ],
      "metadata": {
        "id": "-Ayhyg_x06If"
      }
    },
    {
      "cell_type": "code",
      "source": [
        "# SINGLE POINT CROSSOVER (crossover de um ponto: combina parte inicial do pai1 e final do pai2)\n",
        "def single_point_crossover(pai1, pai2):\n",
        "    ponto = random.randint(1, NUM_TAREFAS - 1)\n",
        "    filho = pai1[:ponto] + pai2[ponto:]\n",
        "    return filho\n",
        "\n",
        "\n",
        "# UNIFORM CROSSOVER ( Crossover uniforme: para cada gene, escolhe aleatoriamente de qual pai herdar)\n",
        "def uniform_crossover(pai1, pai2):\n",
        "    filho = []\n",
        "    for gene1, gene2 in zip(pai1, pai2):\n",
        "        if random.random() < 0.5:\n",
        "            filho.append(gene1)\n",
        "        else:\n",
        "            filho.append(gene2)\n",
        "    return filho"
      ],
      "metadata": {
        "id": "V0HyAFLPHECY"
      },
      "execution_count": 76,
      "outputs": []
    },
    {
      "cell_type": "markdown",
      "source": [
        "Analisando os resultados iniciais, vimos que o resultado sem crossover estava sendo levemente melhor do que aquele considerando o operador de cruzamento. Isso pode ocorrer quando o problema é altamente independente gene a gene, ou seja, cada gene (tarefa → máquina) é relativamente independente dos outros.\n",
        "\n",
        "O crossover (principalmente o single-point) troca blocos grandes de genes que podem não ter relação, destruindo boas combinações de alocações e gerando descendentes piores. Além disso, se a seleção é forte (elitismo), a população pode melhorar mais sem crossover, apenas por mutação guiada.\n",
        "\n",
        "Assim, um crossover guiado pode ser mais útil. Por isso, implementamos também uma função de cruzamento que troca apenas as tarefas que contribuem para o makespan elevado.\n"
      ],
      "metadata": {
        "id": "5jfUBI-Aa9UE"
      }
    },
    {
      "cell_type": "code",
      "source": [
        "def guided_crossover(pai1, pai2): # Crossover guiado: escolhe para cada tarefa o pai que gera menor carga acumulada.\n",
        "    filho = []\n",
        "    cargas = [0] * NUM_MAQUINAS\n",
        "\n",
        "    for i in range(NUM_TAREFAS):\n",
        "        # Opções de máquina dos pais\n",
        "        m1 = pai1[i]\n",
        "        m2 = pai2[i]\n",
        "\n",
        "        # Calcula carga se escolher cada máquina\n",
        "        carga1 = cargas[m1] + tarefas[i]\n",
        "        carga2 = cargas[m2] + tarefas[i]\n",
        "\n",
        "        # Escolhe a opção que gera menor carga\n",
        "        if carga1 < carga2:\n",
        "            filho.append(m1)\n",
        "            cargas[m1] += tarefas[i]\n",
        "        elif carga2 < carga1:\n",
        "            filho.append(m2)\n",
        "            cargas[m2] += tarefas[i]\n",
        "        else:\n",
        "            # Se iguais, escolhe aleatoriamente\n",
        "            escolha = random.choice([m1, m2])\n",
        "            filho.append(escolha)\n",
        "            cargas[escolha] += tarefas[i]\n",
        "\n",
        "    return filho"
      ],
      "metadata": {
        "id": "R9-SDdE5a_j3"
      },
      "execution_count": 77,
      "outputs": []
    },
    {
      "cell_type": "markdown",
      "source": [
        "Para a mutação, implementamos a mutação guiada e a mutação adaptativa;"
      ],
      "metadata": {
        "id": "18udkORU1H_e"
      }
    },
    {
      "cell_type": "code",
      "source": [
        "\n",
        "# MUTAÇÃO GUIADA\n",
        "def aplicar_mutacao(individuo, metodo_mutacao, geracao):\n",
        "    if metodo_mutacao == 'none':\n",
        "        return individuo\n",
        "    if metodo_mutacao == 'avancada':\n",
        "       individuo = aplicar_mutacao_avancada(individuo, geracao, GERACOES)\n",
        "       return individuo\n",
        "    num_mutacoes = int(NUM_TAREFAS * TAXA_MUTACAO)\n",
        "    for _ in range(num_mutacoes):\n",
        "        idx = random.randint(0, NUM_TAREFAS - 1)\n",
        "        if metodo_mutacao == 'guiada':\n",
        "            cargas = [0] * NUM_MAQUINAS\n",
        "            for i, m in enumerate(individuo):\n",
        "                cargas[m] += tarefas[i]\n",
        "            melhor_maquina = cargas.index(min(cargas))\n",
        "            individuo[idx] = melhor_maquina\n",
        "        else:\n",
        "            individuo[idx] = random.randint(0, NUM_MAQUINAS - 1)\n",
        "    return individuo"
      ],
      "metadata": {
        "id": "AGEcmiaJ0-Fn"
      },
      "execution_count": 78,
      "outputs": []
    },
    {
      "cell_type": "markdown",
      "source": [
        "    Mutação adaptativa que escolhe dinamicamente o tipo de mutação conforme a fase da evolução:\n",
        "    - Início: mais aleatória e em blocos para explorar.\n",
        "    - Meio: swap mutation para diversidade.\n",
        "    - Final: mutação guiada e informada para refinamento local.\n"
      ],
      "metadata": {
        "id": "J6kRweCub0EW"
      }
    },
    {
      "cell_type": "code",
      "source": [
        "def aplicar_mutacao_avancada(individuo, geracao, total_geracoes):\n",
        "    # Fração do progresso do AG\n",
        "    progresso = geracao / total_geracoes\n",
        "\n",
        "    # Número de mutações a aplicar\n",
        "    num_mutacoes = max(1, int(NUM_TAREFAS * TAXA_MUTACAO))\n",
        "\n",
        "    for _ in range(num_mutacoes):\n",
        "        escolha = random.random()\n",
        "\n",
        "        # 1️⃣ Fase inicial (exploração aleatória)\n",
        "        if progresso < 0.3:\n",
        "            if escolha < 0.7:\n",
        "                # Mutação aleatória simples\n",
        "                idx = random.randint(0, NUM_TAREFAS - 1)\n",
        "                individuo[idx] = random.randint(0, NUM_MAQUINAS - 1)\n",
        "            else:\n",
        "                # Mutação em bloco (reatribuir várias tarefas)\n",
        "                for idx in random.sample(range(NUM_TAREFAS), k=min(5, NUM_TAREFAS)):\n",
        "                    individuo[idx] = random.randint(0, NUM_MAQUINAS - 1)\n",
        "\n",
        "        # 2️⃣ Fase intermediária (diversidade controlada via swap)\n",
        "        elif progresso < 0.7:\n",
        "            if escolha < 0.5:\n",
        "                # Swap mutation\n",
        "                i, j = random.sample(range(NUM_TAREFAS), 2)\n",
        "                individuo[i], individuo[j] = individuo[j], individuo[i]\n",
        "            else:\n",
        "                idx = random.randint(0, NUM_TAREFAS - 1)\n",
        "                individuo[idx] = random.randint(0, NUM_MAQUINAS - 1)\n",
        "\n",
        "        # 3️⃣ Fase final (refinamento inteligente)\n",
        "        else:\n",
        "            if escolha < 0.6:\n",
        "                # Mutação guiada (máquina menos carregada)\n",
        "                cargas = [0] * NUM_MAQUINAS\n",
        "                for i, m in enumerate(individuo):\n",
        "                    cargas[m] += tarefas[i]\n",
        "                idx = random.randint(0, NUM_TAREFAS - 1)\n",
        "                melhor_maquina = cargas.index(min(cargas))\n",
        "                individuo[idx] = melhor_maquina\n",
        "            else:\n",
        "                # Reassign inteligente: escolhe tarefa da máquina mais carregada\n",
        "                cargas = [0] * NUM_MAQUINAS\n",
        "                for i, m in enumerate(individuo):\n",
        "                    cargas[m] += tarefas[i]\n",
        "                maquina_max = max(range(NUM_MAQUINAS), key=lambda m: cargas[m])\n",
        "                tarefas_maquina = [i for i, m in enumerate(individuo) if m == maquina_max]\n",
        "                if tarefas_maquina:\n",
        "                    tarefa = random.choice(tarefas_maquina)\n",
        "                    melhor_maquina = min(range(NUM_MAQUINAS),\n",
        "                                         key=lambda m: cargas[m] + tarefas[tarefa])\n",
        "                    individuo[tarefa] = melhor_maquina\n",
        "\n",
        "    return individuo"
      ],
      "metadata": {
        "id": "NsE_xZ2ubv4f"
      },
      "execution_count": 79,
      "outputs": []
    },
    {
      "cell_type": "markdown",
      "source": [
        "HOTSTART: Greedy Solution"
      ],
      "metadata": {
        "id": "Ttu2jb_d1NpN"
      }
    },
    {
      "cell_type": "code",
      "source": [
        "# GREEDY SOLUTION (HOTSTART): aloca sempre na máquina mais livre\n",
        "def solucao_greedy():\n",
        "    maquinas = [0] * NUM_MAQUINAS\n",
        "    individuo = []\n",
        "    for t in tarefas:\n",
        "        idx = maquinas.index(min(maquinas))\n",
        "        maquinas[idx] += t\n",
        "        individuo.append(idx)\n",
        "    return individuo\n",
        "\n",
        "# POPULAÇÃO INICIAL (com ou sem hotstart)\n",
        "def criar_populacao(usar_injecao_greedy):\n",
        "    pop = [criar_individuo() for _ in range(TAMANHO_POPULACAO - 5)] if usar_injecao_greedy else [criar_individuo() for _ in range(TAMANHO_POPULACAO)]\n",
        "    if usar_injecao_greedy:\n",
        "        base = solucao_greedy()\n",
        "        for _ in range(5):\n",
        "            mutado = aplicar_mutacao(base[:], 'guiada', 0)\n",
        "            pop.append(mutado)\n",
        "    return pop\n"
      ],
      "metadata": {
        "id": "CxM3MHasn6G0"
      },
      "execution_count": 80,
      "outputs": []
    },
    {
      "cell_type": "markdown",
      "source": [
        "### 2.5) Loop principal do AG"
      ],
      "metadata": {
        "id": "tgZ0NotVmDr5"
      }
    },
    {
      "cell_type": "code",
      "source": [
        "# EXECUÇÃO DO AG COM CONFIGURAÇÕES DINÂMICAS\n",
        "\n",
        "def executar_ag(nome_execucao, melhorado=False, tipo_crossover='none', metodo_mutacao = 'none', metodo_selecao='torneio'):\n",
        "    print(f\"\\n--- {nome_execucao} ---\")\n",
        "    usar_injecao_greedy = melhorado\n",
        "    func_avaliar = avaliar_melhorado if melhorado else avaliar_classico\n",
        "    populacao = criar_populacao(usar_injecao_greedy)\n",
        "    melhor = min(populacao, key=func_avaliar)\n",
        "    historico = [func_avaliar(melhor)]\n",
        "\n",
        "    for geracao in range(GERACOES):\n",
        "        nova_pop = [melhor]\n",
        "        while len(nova_pop) < TAMANHO_POPULACAO:\n",
        "            if metodo_selecao == 'torneio':\n",
        "                p1 = selecao_torneio(populacao, func_avaliar)\n",
        "                p2 = selecao_torneio(populacao, func_avaliar)\n",
        "            else:\n",
        "                p1 = selecao_roleta(populacao, func_avaliar)\n",
        "                p2 = selecao_roleta(populacao, func_avaliar)\n",
        "\n",
        "            if tipo_crossover != 'none' and random.random() < TAXA_CROSSOVER:\n",
        "                if tipo_crossover == 'single':\n",
        "                    filho = single_point_crossover(p1, p2)\n",
        "                elif tipo_crossover == 'uniform':\n",
        "                    filho = uniform_crossover(p1, p2)\n",
        "                elif tipo_crossover == 'guided':\n",
        "                    filho = guided_crossover(p1, p2)\n",
        "            else:\n",
        "                filho = p1[:]\n",
        "\n",
        "            filho = aplicar_mutacao(filho, metodo_mutacao, geracao)\n",
        "            nova_pop.append(filho)\n",
        "\n",
        "        populacao = nova_pop\n",
        "        melhor_atual = min(populacao, key=func_avaliar)\n",
        "        if func_avaliar(melhor_atual) < func_avaliar(melhor):\n",
        "            melhor = melhor_atual\n",
        "\n",
        "        historico.append(func_avaliar(melhor))\n",
        "        print(f\"Geração {geracao+1:3}: Melhor fitness = {func_avaliar(melhor)}\")\n",
        "\n",
        "    return melhor, historico, func_avaliar(melhor)"
      ],
      "metadata": {
        "id": "_QB_41Dwqd9r"
      },
      "execution_count": 81,
      "outputs": []
    },
    {
      "cell_type": "markdown",
      "source": [
        "## **3) Testes e Resultados**"
      ],
      "metadata": {
        "id": "1Bw6S7ITgZ10"
      }
    },
    {
      "cell_type": "markdown",
      "source": [
        "Avaliando resultados do AG com diferentes configurações"
      ],
      "metadata": {
        "id": "pUjqqyoKmYNC"
      }
    },
    {
      "cell_type": "code",
      "source": [
        "# VARIAÇÕES (nome, versão melhorada, crossover, mutação, )\n",
        "versoes = [\n",
        "    (\"AG Clássico - sem crossover e sem mutação\",False,'none','none'),\n",
        "    (\"AG Clássico - com crossover single point e sem mutação\", False, 'single','none'),\n",
        "    (\"AG Clássico - sem crossover e com mutação guiada\", False, 'none', 'guiada'),\n",
        "    (\"AG Clássico - com crossover single point e com mutação guiada\", False, 'single', 'guiada'),\n",
        "    (\"AG Melhorado - sem crossover e sem mutação\", True,'none','none'),\n",
        "    (\"AG Melhorado - com crossover single point, sem mutação\", True, 'single','none'),\n",
        "    (\"AG Melhorado - sem crossover, com mutação guiada\", True, 'none', 'guiada'),\n",
        "    (\"AG Melhorado - com crossover single point e com mutação guiada\", True, 'single', 'guiada'),\n",
        "]\n",
        "\n",
        "resultados = {}\n",
        "for nome, melhorado, cross, mut in versoes:\n",
        "    melhor, hist, fitness = executar_ag(nome, melhorado,cross, mut)\n",
        "    resultados[nome] = {\n",
        "        \"historico\": hist,\n",
        "        \"fitness\": fitness,\n",
        "    }\n",
        "\n",
        "# Greedy Solution\n",
        "sol_greedy = solucao_greedy()\n",
        "fitness_greedy = avaliar_classico(sol_greedy)\n",
        "\n",
        "print(\"\\n==================== RESULTADOS FINAIS ====================\")\n",
        "for nome, dados in resultados.items():\n",
        "    print(f\"{nome:50} -> Fitness final: {dados['fitness']:.2f}\")\n",
        "print(f\"{'Greedy Solution':50} -> Fitness final: {fitness_greedy:.2f}\")\n",
        "print(\"===========================================================\")\n",
        "\n"
      ],
      "metadata": {
        "colab": {
          "base_uri": "https://localhost:8080/"
        },
        "id": "JxnAx3gsge2Z",
        "outputId": "d8adca82-cf63-4653-9d84-13014c5980b4"
      },
      "execution_count": null,
      "outputs": [
        {
          "output_type": "stream",
          "name": "stdout",
          "text": [
            "\n",
            "--- AG Clássico - sem crossover e sem mutação ---\n",
            "Geração   1: Melhor fitness = 451\n",
            "Geração   2: Melhor fitness = 451\n",
            "Geração   3: Melhor fitness = 451\n",
            "Geração   4: Melhor fitness = 451\n",
            "Geração   5: Melhor fitness = 451\n",
            "Geração   6: Melhor fitness = 451\n",
            "Geração   7: Melhor fitness = 451\n",
            "Geração   8: Melhor fitness = 451\n",
            "Geração   9: Melhor fitness = 451\n",
            "Geração  10: Melhor fitness = 451\n",
            "Geração  11: Melhor fitness = 451\n",
            "Geração  12: Melhor fitness = 451\n",
            "Geração  13: Melhor fitness = 451\n",
            "Geração  14: Melhor fitness = 451\n",
            "Geração  15: Melhor fitness = 451\n",
            "Geração  16: Melhor fitness = 451\n",
            "Geração  17: Melhor fitness = 451\n",
            "Geração  18: Melhor fitness = 451\n",
            "Geração  19: Melhor fitness = 451\n",
            "Geração  20: Melhor fitness = 451\n",
            "Geração  21: Melhor fitness = 451\n",
            "Geração  22: Melhor fitness = 451\n",
            "Geração  23: Melhor fitness = 451\n",
            "Geração  24: Melhor fitness = 451\n",
            "Geração  25: Melhor fitness = 451\n"
          ]
        }
      ]
    },
    {
      "cell_type": "markdown",
      "source": [
        "Gráfico comparativo das diferentes versões de Algoritmo Genético implementadas."
      ],
      "metadata": {
        "id": "AKa3re2mi3J7"
      }
    },
    {
      "cell_type": "code",
      "source": [
        "# GRÁFICO COMPARATIVO\n",
        "plt.figure(figsize=(14, 7))\n",
        "for nome, dados in resultados.items():\n",
        "    plt.plot(dados[\"historico\"], label=nome)\n",
        "plt.axhline(y=fitness_greedy, color='black', linestyle='--', label=\"Greedy Solution\")\n",
        "plt.xlabel(\"Geração\")\n",
        "plt.ylabel(\"Fitness\")\n",
        "plt.title(\"Comparação entre variações de Algoritmos Genéticos\")\n",
        "plt.legend(loc='upper right', fontsize=8)\n",
        "plt.grid(True)\n",
        "plt.tight_layout()\n",
        "plt.show()"
      ],
      "metadata": {
        "id": "R6eoRMD02868"
      },
      "execution_count": null,
      "outputs": []
    },
    {
      "cell_type": "markdown",
      "source": [
        "Com base nas simulações acima, é possível identificar que as melhores soluções foram obtidas para:\n",
        "\n",
        "  **1) AG Clássico sem crossover e com mutação guiada:** população inicial gerada aleatoriamente + função fitness considera apenas o makespan + sem cruzamento (filhos = pais) + mutação guiada pelo balanceamento da carga;\n",
        "\n",
        "  **2) AG melhorado sem crossover e com mutação guiada:**  hotstart da população com alguns indivíduos da solução greedy + função fitness considera não só o makespan como também o balanceamento da carga + sem cruzamento (filhos = pais) + mutação guiada pelo balanceamento da carga;\n",
        "\n",
        "  Assim, conclui-se que o cruzamento para esse caso específico acabou não tendo um impacto positivo na solução."
      ],
      "metadata": {
        "id": "IDiguUsFeK8T"
      }
    },
    {
      "cell_type": "code",
      "source": [
        "# VARIAÇÕES (nome, versão melhorada, crossover, mutação, seleção)\n",
        "versoes = [\n",
        "    (\"AG Clássico - com crossover uniform e com mutação guiada\", False, 'uniform', 'guiada', 'torneio'),\n",
        "    (\"AG Melhorado - com crossover uniform e com mutação guiada\", True, 'uniform', 'guiada', 'torneio'),\n",
        "]\n",
        "\n",
        "resultados = {}\n",
        "for nome, melhorado, cross, mut, rol in versoes:\n",
        "    melhor, hist, fitness = executar_ag(nome, melhorado,cross, mut, rol)\n",
        "    resultados[nome] = {\n",
        "        \"historico\": hist,\n",
        "        \"fitness\": fitness,\n",
        "    }\n",
        "\n",
        "print(\"\\n==================== RESULTADOS FINAIS ====================\")\n",
        "for nome, dados in resultados.items():\n",
        "    print(f\"{nome:50} -> Fitness final: {dados['fitness']:.2f}\")\n",
        "print(f\"{'Greedy Solution':50} -> Fitness final: {fitness_greedy:.2f}\")\n",
        "print(\"===========================================================\")\n"
      ],
      "metadata": {
        "id": "o7CRRd5Ankq9"
      },
      "execution_count": null,
      "outputs": []
    },
    {
      "cell_type": "markdown",
      "source": [
        "Streamlit: interface para explorar diferentes parâmetros de entrada utilizando o Algoritmo Genético com cruzamento e mutação."
      ],
      "metadata": {
        "id": "rxIJTnpuRaJ3"
      }
    },
    {
      "cell_type": "code",
      "source": [
        "# Libera a porta 8501\n",
        "public_url = ngrok.connect(addr=\"8501\", proto=\"http\")\n",
        "print(\"URL pública:\", public_url)\n",
        "\n",
        "# Roda o Streamlit em background\n",
        "!streamlit run ag_interface.py &>/dev/null &\n"
      ],
      "metadata": {
        "id": "QvGy89GfRXyW"
      },
      "execution_count": null,
      "outputs": []
    },
    {
      "cell_type": "markdown",
      "source": [
        "## **4) Análises e conclusões**"
      ],
      "metadata": {
        "id": "D8bvG513FdSq"
      }
    },
    {
      "cell_type": "code",
      "source": [
        "print(\"ANÁLISE DOS RESULTADOS:\")\n",
        "print(\"=\" * 100)\n",
        "\n",
        "# Encontrar melhor e pior resultado\n",
        "fitness_values = [d['fitness'] for d in resultados.values()]\n",
        "nomes = list(resultados.keys())\n",
        "\n",
        "melhor_idx = fitness_values.index(min(fitness_values))\n",
        "pior_idx = fitness_values.index(max(fitness_values))\n",
        "\n",
        "melhor_nome = nomes[melhor_idx]\n",
        "pior_nome = nomes[pior_idx]\n",
        "melhor_fitness = fitness_values[melhor_idx]\n",
        "pior_fitness = fitness_values[pior_idx]\n",
        "\n",
        "print(f\"-  MELHOR RESULTADO:\")\n",
        "print(f\"   {melhor_nome}\")\n",
        "print(f\"   Fitness: {melhor_fitness:.2f}\")\n",
        "print(\"-\" * 100)\n",
        "print(f\"-  PIOR RESULTADO:\")\n",
        "print(f\"   {pior_nome}\")\n",
        "print(f\"   Fitness: {pior_fitness:.2f}\")\n",
        "print(\"-\" * 100)\n",
        "# Comparação com greedy\n",
        "melhoria_vs_greedy = ((fitness_greedy - melhor_fitness) / fitness_greedy) * 100\n",
        "print(f\"-  COMPARAÇÃO COM GREEDY:\")\n",
        "print(f\"   Greedy: {fitness_greedy:.2f}\")\n",
        "print(f\"   Melhor AG: {melhor_fitness:.2f}\")\n",
        "print(f\"   Melhoria: {melhoria_vs_greedy:.2f}%\")"
      ],
      "metadata": {
        "id": "Z2n1IPfSwsyQ"
      },
      "execution_count": null,
      "outputs": []
    }
  ]
}